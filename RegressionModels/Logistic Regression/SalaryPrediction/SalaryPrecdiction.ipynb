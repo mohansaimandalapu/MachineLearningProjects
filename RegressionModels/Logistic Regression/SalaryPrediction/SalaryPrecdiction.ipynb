{
 "cells": [
  {
   "cell_type": "code",
   "execution_count": 1,
   "metadata": {},
   "outputs": [
    {
     "output_type": "error",
     "ename": "ModuleNotFoundError",
     "evalue": "No module named 'seaborn'",
     "traceback": [
      "\u001b[0;31m---------------------------------------------------------------------------\u001b[0m",
      "\u001b[0;31mModuleNotFoundError\u001b[0m                       Traceback (most recent call last)",
      "\u001b[0;32m<ipython-input-1-d27f8217ffb6>\u001b[0m in \u001b[0;36m<module>\u001b[0;34m\u001b[0m\n\u001b[1;32m      1\u001b[0m \u001b[0;32mimport\u001b[0m \u001b[0mpandas\u001b[0m \u001b[0;32mas\u001b[0m \u001b[0mpd\u001b[0m\u001b[0;34m\u001b[0m\u001b[0;34m\u001b[0m\u001b[0m\n\u001b[0;32m----> 2\u001b[0;31m \u001b[0;32mimport\u001b[0m \u001b[0mseaborn\u001b[0m \u001b[0;32mas\u001b[0m \u001b[0msns\u001b[0m\u001b[0;34m\u001b[0m\u001b[0;34m\u001b[0m\u001b[0m\n\u001b[0m\u001b[1;32m      3\u001b[0m \u001b[0;32mimport\u001b[0m \u001b[0mmatplotlib\u001b[0m\u001b[0;34m.\u001b[0m\u001b[0mpyplot\u001b[0m \u001b[0;32mas\u001b[0m \u001b[0mplt\u001b[0m\u001b[0;34m\u001b[0m\u001b[0;34m\u001b[0m\u001b[0m\n\u001b[1;32m      4\u001b[0m \u001b[0;32mfrom\u001b[0m \u001b[0msklearn\u001b[0m \u001b[0;32mimport\u001b[0m \u001b[0mpreprocessing\u001b[0m\u001b[0;34m\u001b[0m\u001b[0;34m\u001b[0m\u001b[0m\n\u001b[1;32m      5\u001b[0m \u001b[0;32mimport\u001b[0m \u001b[0mnumpy\u001b[0m \u001b[0;32mas\u001b[0m \u001b[0mnp\u001b[0m\u001b[0;34m\u001b[0m\u001b[0;34m\u001b[0m\u001b[0m\n",
      "\u001b[0;31mModuleNotFoundError\u001b[0m: No module named 'seaborn'"
     ]
    }
   ],
   "source": [
    "import pandas as pd\n",
    "import seaborn as sns\n",
    "import matplotlib.pyplot as plt\n",
    "from sklearn import preprocessing\n",
    "import numpy as np\n",
    "from sklearn.model_selection import train_test_split\n",
    "from sklearn.linear_model import LogisticRegression\n",
    "from sklearn.metrics import recall_score\n",
    "from sklearn.metrics import precision_score\n",
    "from sklearn.metrics import plot_confusion_matrix\n",
    "from sklearn.metrics import confusion_matrix\n",
    "from sklearn.utils import resample\n",
    "from sklearn.tree import DecisionTreeClassifier\n",
    "from sklearn.metrics import classification_report, confusion_matrix \n",
    "from sklearn.tree import plot_tree\n",
    "from sklearn.ensemble import RandomForestClassifier\n",
    "from sklearn.feature_selection import SelectFromModel\n"
   ]
  },
  {
   "cell_type": "code",
   "execution_count": 2,
   "metadata": {},
   "outputs": [],
   "source": [
    "#creating pandas data frame and adding header to the data\n",
    "data = pd.read_csv('/home/panther/Downloads/adult.data',names=['age','workclass','fnlwgt','education','education-num','marital-status','occupation','relationship','race','sex','capital-gain','capital-loss','hours-per-week','native-country','target'])"
   ]
  },
  {
   "cell_type": "markdown",
   "metadata": {},
   "source": [
    "# Data Pre-processing"
   ]
  },
  {
   "cell_type": "code",
   "execution_count": 3,
   "metadata": {},
   "outputs": [],
   "source": [
    "#checking for null values\n",
    "data.replace(' ?',np.nan,inplace =True)\n",
    "data.isnull().sum()\n",
    "#we cant replace workclass,occupation,native-country with their mean or meadian so we are deleting them\n",
    "data =  data.dropna()\n",
    "\n",
    "#droping duplicate rows\n",
    "data = data.drop_duplicates()\n",
    "\n",
    "#encoading target variabe\n",
    "le = preprocessing.LabelEncoder()\n",
    "le.fit(data['target'].values)\n",
    "data['target'].replace(data['target'].values,le.transform(data['target'].values),inplace=True)\n",
    "\n",
    "#checking columns having more than 80% single values\n",
    "fx = lambda x : max(data[x].value_counts())/data.shape[0]>.80\n",
    "single_value_columns = list(filter(fx,data.columns))\n",
    "\n",
    "# droping single value columns\n",
    "data = data.drop(single_value_columns,axis=1)"
   ]
  },
  {
   "cell_type": "markdown",
   "metadata": {},
   "source": [
    "# EDA"
   ]
  },
  {
   "cell_type": "code",
   "execution_count": 4,
   "metadata": {
    "collapsed": true,
    "jupyter": {
     "outputs_hidden": true,
     "source_hidden": true
    }
   },
   "outputs": [
    {
     "name": "stderr",
     "output_type": "stream",
     "text": [
      "/home/panther/miniconda3/envs/py38/lib/python3.8/site-packages/seaborn/_decorators.py:36: FutureWarning: Pass the following variable as a keyword arg: x. From version 0.12, the only valid positional argument will be `data`, and passing other arguments without an explicit keyword will result in an error or misinterpretation.\n",
      "  warnings.warn(\n"
     ]
    },
    {
     "data": {
      "text/html": [
       "<div>\n",
       "<style scoped>\n",
       "    .dataframe tbody tr th:only-of-type {\n",
       "        vertical-align: middle;\n",
       "    }\n",
       "\n",
       "    .dataframe tbody tr th {\n",
       "        vertical-align: top;\n",
       "    }\n",
       "\n",
       "    .dataframe thead th {\n",
       "        text-align: right;\n",
       "    }\n",
       "</style>\n",
       "<table border=\"1\" class=\"dataframe\">\n",
       "  <thead>\n",
       "    <tr style=\"text-align: right;\">\n",
       "      <th></th>\n",
       "      <th>age</th>\n",
       "      <th>workclass</th>\n",
       "      <th>fnlwgt</th>\n",
       "      <th>education</th>\n",
       "      <th>education-num</th>\n",
       "      <th>marital-status</th>\n",
       "      <th>occupation</th>\n",
       "      <th>relationship</th>\n",
       "      <th>sex</th>\n",
       "      <th>hours-per-week</th>\n",
       "      <th>target</th>\n",
       "    </tr>\n",
       "  </thead>\n",
       "  <tbody>\n",
       "    <tr>\n",
       "      <th>7</th>\n",
       "      <td>52</td>\n",
       "      <td>Self-emp-not-inc</td>\n",
       "      <td>209642</td>\n",
       "      <td>HS-grad</td>\n",
       "      <td>9</td>\n",
       "      <td>Married-civ-spouse</td>\n",
       "      <td>Exec-managerial</td>\n",
       "      <td>Husband</td>\n",
       "      <td>Male</td>\n",
       "      <td>45</td>\n",
       "      <td>1</td>\n",
       "    </tr>\n",
       "    <tr>\n",
       "      <th>8</th>\n",
       "      <td>31</td>\n",
       "      <td>Private</td>\n",
       "      <td>45781</td>\n",
       "      <td>Masters</td>\n",
       "      <td>14</td>\n",
       "      <td>Never-married</td>\n",
       "      <td>Prof-specialty</td>\n",
       "      <td>Not-in-family</td>\n",
       "      <td>Female</td>\n",
       "      <td>50</td>\n",
       "      <td>1</td>\n",
       "    </tr>\n",
       "    <tr>\n",
       "      <th>9</th>\n",
       "      <td>42</td>\n",
       "      <td>Private</td>\n",
       "      <td>159449</td>\n",
       "      <td>Bachelors</td>\n",
       "      <td>13</td>\n",
       "      <td>Married-civ-spouse</td>\n",
       "      <td>Exec-managerial</td>\n",
       "      <td>Husband</td>\n",
       "      <td>Male</td>\n",
       "      <td>40</td>\n",
       "      <td>1</td>\n",
       "    </tr>\n",
       "    <tr>\n",
       "      <th>10</th>\n",
       "      <td>37</td>\n",
       "      <td>Private</td>\n",
       "      <td>280464</td>\n",
       "      <td>Some-college</td>\n",
       "      <td>10</td>\n",
       "      <td>Married-civ-spouse</td>\n",
       "      <td>Exec-managerial</td>\n",
       "      <td>Husband</td>\n",
       "      <td>Male</td>\n",
       "      <td>80</td>\n",
       "      <td>1</td>\n",
       "    </tr>\n",
       "    <tr>\n",
       "      <th>11</th>\n",
       "      <td>30</td>\n",
       "      <td>State-gov</td>\n",
       "      <td>141297</td>\n",
       "      <td>Bachelors</td>\n",
       "      <td>13</td>\n",
       "      <td>Married-civ-spouse</td>\n",
       "      <td>Prof-specialty</td>\n",
       "      <td>Husband</td>\n",
       "      <td>Male</td>\n",
       "      <td>40</td>\n",
       "      <td>1</td>\n",
       "    </tr>\n",
       "    <tr>\n",
       "      <th>...</th>\n",
       "      <td>...</td>\n",
       "      <td>...</td>\n",
       "      <td>...</td>\n",
       "      <td>...</td>\n",
       "      <td>...</td>\n",
       "      <td>...</td>\n",
       "      <td>...</td>\n",
       "      <td>...</td>\n",
       "      <td>...</td>\n",
       "      <td>...</td>\n",
       "      <td>...</td>\n",
       "    </tr>\n",
       "    <tr>\n",
       "      <th>32538</th>\n",
       "      <td>38</td>\n",
       "      <td>Private</td>\n",
       "      <td>139180</td>\n",
       "      <td>Bachelors</td>\n",
       "      <td>13</td>\n",
       "      <td>Divorced</td>\n",
       "      <td>Prof-specialty</td>\n",
       "      <td>Unmarried</td>\n",
       "      <td>Female</td>\n",
       "      <td>45</td>\n",
       "      <td>1</td>\n",
       "    </tr>\n",
       "    <tr>\n",
       "      <th>32545</th>\n",
       "      <td>39</td>\n",
       "      <td>Local-gov</td>\n",
       "      <td>111499</td>\n",
       "      <td>Assoc-acdm</td>\n",
       "      <td>12</td>\n",
       "      <td>Married-civ-spouse</td>\n",
       "      <td>Adm-clerical</td>\n",
       "      <td>Wife</td>\n",
       "      <td>Female</td>\n",
       "      <td>20</td>\n",
       "      <td>1</td>\n",
       "    </tr>\n",
       "    <tr>\n",
       "      <th>32554</th>\n",
       "      <td>53</td>\n",
       "      <td>Private</td>\n",
       "      <td>321865</td>\n",
       "      <td>Masters</td>\n",
       "      <td>14</td>\n",
       "      <td>Married-civ-spouse</td>\n",
       "      <td>Exec-managerial</td>\n",
       "      <td>Husband</td>\n",
       "      <td>Male</td>\n",
       "      <td>40</td>\n",
       "      <td>1</td>\n",
       "    </tr>\n",
       "    <tr>\n",
       "      <th>32557</th>\n",
       "      <td>40</td>\n",
       "      <td>Private</td>\n",
       "      <td>154374</td>\n",
       "      <td>HS-grad</td>\n",
       "      <td>9</td>\n",
       "      <td>Married-civ-spouse</td>\n",
       "      <td>Machine-op-inspct</td>\n",
       "      <td>Husband</td>\n",
       "      <td>Male</td>\n",
       "      <td>40</td>\n",
       "      <td>1</td>\n",
       "    </tr>\n",
       "    <tr>\n",
       "      <th>32560</th>\n",
       "      <td>52</td>\n",
       "      <td>Self-emp-inc</td>\n",
       "      <td>287927</td>\n",
       "      <td>HS-grad</td>\n",
       "      <td>9</td>\n",
       "      <td>Married-civ-spouse</td>\n",
       "      <td>Exec-managerial</td>\n",
       "      <td>Wife</td>\n",
       "      <td>Female</td>\n",
       "      <td>40</td>\n",
       "      <td>1</td>\n",
       "    </tr>\n",
       "  </tbody>\n",
       "</table>\n",
       "<p>6560 rows × 11 columns</p>\n",
       "</div>"
      ],
      "text/plain": [
       "       age          workclass  fnlwgt      education  education-num  \\\n",
       "7       52   Self-emp-not-inc  209642        HS-grad              9   \n",
       "8       31            Private   45781        Masters             14   \n",
       "9       42            Private  159449      Bachelors             13   \n",
       "10      37            Private  280464   Some-college             10   \n",
       "11      30          State-gov  141297      Bachelors             13   \n",
       "...    ...                ...     ...            ...            ...   \n",
       "32538   38            Private  139180      Bachelors             13   \n",
       "32545   39          Local-gov  111499     Assoc-acdm             12   \n",
       "32554   53            Private  321865        Masters             14   \n",
       "32557   40            Private  154374        HS-grad              9   \n",
       "32560   52       Self-emp-inc  287927        HS-grad              9   \n",
       "\n",
       "            marital-status          occupation    relationship      sex  \\\n",
       "7       Married-civ-spouse     Exec-managerial         Husband     Male   \n",
       "8            Never-married      Prof-specialty   Not-in-family   Female   \n",
       "9       Married-civ-spouse     Exec-managerial         Husband     Male   \n",
       "10      Married-civ-spouse     Exec-managerial         Husband     Male   \n",
       "11      Married-civ-spouse      Prof-specialty         Husband     Male   \n",
       "...                    ...                 ...             ...      ...   \n",
       "32538             Divorced      Prof-specialty       Unmarried   Female   \n",
       "32545   Married-civ-spouse        Adm-clerical            Wife   Female   \n",
       "32554   Married-civ-spouse     Exec-managerial         Husband     Male   \n",
       "32557   Married-civ-spouse   Machine-op-inspct         Husband     Male   \n",
       "32560   Married-civ-spouse     Exec-managerial            Wife   Female   \n",
       "\n",
       "       hours-per-week  target  \n",
       "7                  45       1  \n",
       "8                  50       1  \n",
       "9                  40       1  \n",
       "10                 80       1  \n",
       "11                 40       1  \n",
       "...               ...     ...  \n",
       "32538              45       1  \n",
       "32545              20       1  \n",
       "32554              40       1  \n",
       "32557              40       1  \n",
       "32560              40       1  \n",
       "\n",
       "[6560 rows x 11 columns]"
      ]
     },
     "execution_count": 4,
     "metadata": {},
     "output_type": "execute_result"
    },
    {
     "data": {
      "image/png": "[encoded data removed]",
      "text/plain": [
       "<Figure size 4320x720 with 1 Axes>"
      ]
     },
     "metadata": {
      "needs_background": "light"
     },
     "output_type": "display_data"
    }
   ],
   "source": [
    "#lets see how age impact on the salary\n",
    "plt.figure(figsize=(60,10))\n",
    "sns.countplot('age',hue='target',data=data)\n",
    "#87% of the people whose age is in between 30-60 having salary more than 50k\n",
    "data[(data['age'].between(30,60))&(data['target']==1)]"
   ]
  },
  {
   "cell_type": "code",
   "execution_count": 5,
   "metadata": {
    "collapsed": true,
    "jupyter": {
     "outputs_hidden": true,
     "source_hidden": true
    }
   },
   "outputs": [
    {
     "name": "stderr",
     "output_type": "stream",
     "text": [
      "/home/panther/miniconda3/envs/py38/lib/python3.8/site-packages/seaborn/_decorators.py:36: FutureWarning: Pass the following variable as a keyword arg: x. From version 0.12, the only valid positional argument will be `data`, and passing other arguments without an explicit keyword will result in an error or misinterpretation.\n",
      "  warnings.warn(\n"
     ]
    },
    {
     "data": {
      "text/plain": [
       "<AxesSubplot:xlabel='education-num', ylabel='count'>"
      ]
     },
     "execution_count": 5,
     "metadata": {},
     "output_type": "execute_result"
    },
    {
     "data": {
      "image/png": "[encoded data removed]",
      "text/plain": [
       "<Figure size 4320x720 with 1 Axes>"
      ]
     },
     "metadata": {
      "needs_background": "light"
     },
     "output_type": "display_data"
    }
   ],
   "source": [
    "#lets see how education varies the salary\n",
    "plt.figure(figsize=(60,10))\n",
    "sns.countplot('education-num',hue='target',data=data)\n",
    "#its clearly showa that more number of years you study you vl get more salary"
   ]
  },
  {
   "cell_type": "code",
   "execution_count": 6,
   "metadata": {
    "collapsed": true,
    "jupyter": {
     "outputs_hidden": true,
     "source_hidden": true
    }
   },
   "outputs": [
    {
     "data": {
      "text/plain": [
       "<AxesSubplot:xlabel='occupation', ylabel='count'>"
      ]
     },
     "execution_count": 6,
     "metadata": {},
     "output_type": "execute_result"
    },
    {
     "data": {
      "image/png": "[encoded data removed]",
      "text/plain": [
       "<Figure size 4320x720 with 1 Axes>"
      ]
     },
     "metadata": {
      "needs_background": "light"
     },
     "output_type": "display_data"
    }
   ],
   "source": [
    "#lets see which are the top 2 occupations to get more salary\n",
    "data_m = data[data['target']==1]\n",
    "plt.figure(figsize=(60,10))\n",
    "sns.countplot(x='occupation',data=data_m)"
   ]
  },
  {
   "cell_type": "code",
   "execution_count": 7,
   "metadata": {
    "collapsed": true,
    "jupyter": {
     "outputs_hidden": true,
     "source_hidden": true
    }
   },
   "outputs": [
    {
     "name": "stderr",
     "output_type": "stream",
     "text": [
      "/home/panther/miniconda3/envs/py38/lib/python3.8/site-packages/seaborn/_decorators.py:36: FutureWarning: Pass the following variable as a keyword arg: x. From version 0.12, the only valid positional argument will be `data`, and passing other arguments without an explicit keyword will result in an error or misinterpretation.\n",
      "  warnings.warn(\n"
     ]
    },
    {
     "data": {
      "text/plain": [
       "<AxesSubplot:xlabel='sex', ylabel='count'>"
      ]
     },
     "execution_count": 7,
     "metadata": {},
     "output_type": "execute_result"
    },
    {
     "data": {
      "image/png": "[encoded data removed]",
      "text/plain": [
       "<Figure size 432x288 with 1 Axes>"
      ]
     },
     "metadata": {
      "needs_background": "light"
     },
     "output_type": "display_data"
    }
   ],
   "source": [
    "#lets see who vl get more salary male or female\n",
    "sns.countplot('sex',data=data_m)\n",
    "# aha there are 85% people are men among who earn more than 50k salary"
   ]
  },
  {
   "cell_type": "code",
   "execution_count": 8,
   "metadata": {
    "collapsed": true,
    "jupyter": {
     "outputs_hidden": true,
     "source_hidden": true
    }
   },
   "outputs": [
    {
     "name": "stderr",
     "output_type": "stream",
     "text": [
      "/home/panther/miniconda3/envs/py38/lib/python3.8/site-packages/seaborn/_decorators.py:36: FutureWarning: Pass the following variable as a keyword arg: x. From version 0.12, the only valid positional argument will be `data`, and passing other arguments without an explicit keyword will result in an error or misinterpretation.\n",
      "  warnings.warn(\n"
     ]
    },
    {
     "data": {
      "text/plain": [
       "<AxesSubplot:xlabel='marital-status', ylabel='count'>"
      ]
     },
     "execution_count": 8,
     "metadata": {},
     "output_type": "execute_result"
    },
    {
     "data": {
      "image/png": "[encoded data removed]",
      "text/plain": [
       "<Figure size 2160x720 with 1 Axes>"
      ]
     },
     "metadata": {
      "needs_background": "light"
     },
     "output_type": "display_data"
    }
   ],
   "source": [
    "#Is marital-status affects salary \n",
    "plt.figure(figsize=(30,10))\n",
    "sns.countplot('marital-status',hue=\"target\",data=data)\n",
    "# 85% who are Married-civ-spouse are earning more than 50k"
   ]
  },
  {
   "cell_type": "code",
   "execution_count": 4,
   "metadata": {},
   "outputs": [],
   "source": [
    "#creating dummy variables for catogorial columns\n",
    "cato_columns = data.columns[data.dtypes == 'object']\n",
    "data = pd.get_dummies(data,columns=cato_columns)\n",
    "\n",
    "#taking target feature out from the data set\n",
    "y = data['target']\n",
    "X= data.drop('target',axis=1)\n",
    "\n",
    "#splitiing data set into train and validation data\n",
    "X_train, X_test, y_train, y_test = train_test_split(X, y)\n",
    "\n",
    "# concatenate our training data back together to perform downsample majority classes\n",
    "X = pd.concat([X_train, y_train], axis=1)\n",
    "\n",
    "# separate minority and majority classes\n",
    "below_50 = X[X.target==0]\n",
    "above_50 = X[X.target==1]\n",
    "# downsample majority\n",
    "above_50_downsampled = resample(below_50,replace = False,n_samples = len(above_50),random_state = 27) \n",
    "\n",
    "# combine minority and downsampled majority\n",
    "downsampled = pd.concat([above_50_downsampled, above_50])\n",
    "\n",
    "# # checking counts\n",
    "downsampled.target.value_counts()\n",
    "\n",
    "\n",
    "# trying logistic regression again with the undersampled dataset\n",
    "\n",
    "y_train = downsampled.target\n",
    "X_train = downsampled.drop('target', axis=1)"
   ]
  },
  {
   "cell_type": "markdown",
   "metadata": {},
   "source": [
    "# feature selection based on RandomForestClassifier"
   ]
  },
  {
   "cell_type": "code",
   "execution_count": 5,
   "metadata": {},
   "outputs": [
    {
     "name": "stdout",
     "output_type": "stream",
     "text": [
      "Logistic Regression - \n",
      "recall_score = 0.7495686794956868\n",
      "precision_score = 0.8353301510866393\n",
      " \n",
      "DecisionTreeClassifier - \n",
      "recall_score = 0.7182481751824817\n",
      "precision_score = 0.8353301510866393\n",
      " \n",
      "RandomForestClassifier - \n",
      "Precision= 0.8196342773536676\n",
      "recall= 0.7685467816854679\n"
     ]
    }
   ],
   "source": [
    "# feature selection\n",
    "def select_features(X_train, y_train, X_test):\n",
    "\t# configure to select a subset of features\n",
    "\tfs = SelectFromModel(RandomForestClassifier())\n",
    "\t# learn relationship from training data\n",
    "\tfs.fit(X_train, y_train)\n",
    "\t# transform train input data\n",
    "\tX_train_fs = fs.transform(X_train)\n",
    "\t# transform test input data\n",
    "\tX_test_fs = fs.transform(X_test)\n",
    "\treturn X_train_fs, X_test_fs, fs\n",
    "\n",
    "#feature selection\n",
    "X_train_fs, X_test_fs, fs = select_features(X_train, y_train, X_test)\n",
    "\n",
    "# Logistic regression\n",
    "model = LogisticRegression(solver='liblinear' ).fit(X_train_fs, y_train)\n",
    "\n",
    "y_hat = model.predict(X_test_fs)\n",
    "\n",
    "print('Logistic Regression - ')\n",
    "print('recall_score =', recall_score(y_test, y_hat,average='weighted'))\n",
    "print('precision_score =',precision_score(y_test,y_hat,average='weighted'))\n",
    "print(\" \")\n",
    "\n",
    "#fiting train data to model\n",
    "dtree = DecisionTreeClassifier()\n",
    "dtree.fit(X_train_fs,y_train)\n",
    "# Predicting the values of test data\n",
    "y_pred = dtree.predict(X_test_fs)\n",
    "print('DecisionTreeClassifier - ')\n",
    "print('recall_score =', recall_score(y_test, y_pred,average='weighted'))\n",
    "print('precision_score =',precision_score(y_test,y_hat,average='weighted'))\n",
    "print(\" \")\n",
    "\n",
    "#Random forest classifier\n",
    "model = RandomForestClassifier()\n",
    "model.fit(X_train_fs,y_train)\n",
    "predict = model.predict(X_test_fs)\n",
    "print('RandomForestClassifier - ')\n",
    "print('Precision=',precision_score(y_test,predict,average='weighted'))\n",
    "print('recall=',recall_score(y_test,predict,average='weighted'))"
   ]
  },
  {
   "cell_type": "markdown",
   "metadata": {},
   "source": [
    "# feature selection based on LogisticRegression"
   ]
  },
  {
   "cell_type": "code",
   "execution_count": 7,
   "metadata": {},
   "outputs": [
    {
     "name": "stdout",
     "output_type": "stream",
     "text": [
      "Logistic Regression - \n",
      "recall_score = 0.7798274717982747\n",
      "precision_score = 0.8374494831209588\n",
      " \n",
      "DecisionTreeClassifier - \n",
      "recall_score = 0.7485069674850697\n",
      "precision_score = 0.8374494831209588\n",
      " \n",
      "RandomForestClassifier - \n",
      "Precision= 0.8204521058503019\n",
      "recall= 0.760185799601858\n"
     ]
    }
   ],
   "source": [
    "# feature selection\n",
    "def select_features(X_train, y_train, X_test):\n",
    "\t# configure to select a subset of features\n",
    "\tfs = SelectFromModel(LogisticRegression())\n",
    "\t# learn relationship from training data\n",
    "\tfs.fit(X_train, y_train)\n",
    "\t# transform train input data\n",
    "\tX_train_fs = fs.transform(X_train)\n",
    "\t# transform test input data\n",
    "\tX_test_fs = fs.transform(X_test)\n",
    "\treturn X_train_fs, X_test_fs, fs\n",
    "\n",
    "#feature selection\n",
    "X_train_fs, X_test_fs, fs = select_features(X_train, y_train, X_test)\n",
    "\n",
    "# Logistic regression\n",
    "model = LogisticRegression(solver='liblinear' ).fit(X_train_fs, y_train)\n",
    "\n",
    "y_hat = model.predict(X_test_fs)\n",
    "\n",
    "print('Logistic Regression - ')\n",
    "print('recall_score =', recall_score(y_test, y_hat,average='weighted'))\n",
    "print('precision_score =',precision_score(y_test,y_hat,average='weighted'))\n",
    "print(\" \")\n",
    "\n",
    "#fiting train data to model\n",
    "dtree = DecisionTreeClassifier()\n",
    "dtree.fit(X_train_fs,y_train)\n",
    "# Predicting the values of test data\n",
    "y_pred = dtree.predict(X_test_fs)\n",
    "print('DecisionTreeClassifier - ')\n",
    "print('recall_score =', recall_score(y_test, y_pred,average='weighted'))\n",
    "print('precision_score =',precision_score(y_test,y_hat,average='weighted'))\n",
    "print(\" \")\n",
    "\n",
    "#Random forest classifier\n",
    "model = RandomForestClassifier()\n",
    "model.fit(X_train_fs,y_train)\n",
    "predict = model.predict(X_test_fs)\n",
    "print('RandomForestClassifier - ')\n",
    "print('Precision=',precision_score(y_test,predict,average='weighted'))\n",
    "print('recall=',recall_score(y_test,predict,average='weighted'))"
   ]
  },
  {
   "cell_type": "markdown",
   "metadata": {},
   "source": [
    "# feature selection based on Decision tree"
   ]
  },
  {
   "cell_type": "code",
   "execution_count": 9,
   "metadata": {},
   "outputs": [
    {
     "name": "stdout",
     "output_type": "stream",
     "text": [
      "Logistic Regression - \n",
      "recall_score = 0.7689449236894492\n",
      "precision_score = 0.8344182752649801\n",
      " \n",
      "DecisionTreeClassifier - \n",
      "recall_score = 0.7216987392169874\n",
      "precision_score = 0.8344182752649801\n",
      " \n",
      "RandomForestClassifier - \n",
      "Precision= 0.8153021393596839\n",
      "recall= 0.7625746516257466\n"
     ]
    }
   ],
   "source": [
    "# feature selection\n",
    "def select_features(X_train, y_train, X_test):\n",
    "\t# configure to select a subset of features\n",
    "\tfs = SelectFromModel(DecisionTreeClassifier())\n",
    "\t# learn relationship from training data\n",
    "\tfs.fit(X_train, y_train)\n",
    "\t# transform train input data\n",
    "\tX_train_fs = fs.transform(X_train)\n",
    "\t# transform test input data\n",
    "\tX_test_fs = fs.transform(X_test)\n",
    "\treturn X_train_fs, X_test_fs, fs\n",
    "\n",
    "#feature selection\n",
    "X_train_fs, X_test_fs, fs = select_features(X_train, y_train, X_test)\n",
    "\n",
    "# Logistic regression\n",
    "model = LogisticRegression(solver='liblinear' ).fit(X_train_fs, y_train)\n",
    "\n",
    "y_hat = model.predict(X_test_fs)\n",
    "\n",
    "print('Logistic Regression - ')\n",
    "print('recall_score =', recall_score(y_test, y_hat,average='weighted'))\n",
    "print('precision_score =',precision_score(y_test,y_hat,average='weighted'))\n",
    "print(\" \")\n",
    "\n",
    "#fiting train data to model\n",
    "dtree = DecisionTreeClassifier()\n",
    "dtree.fit(X_train_fs,y_train)\n",
    "# Predicting the values of test data\n",
    "y_pred = dtree.predict(X_test_fs)\n",
    "print('DecisionTreeClassifier - ')\n",
    "print('recall_score =', recall_score(y_test, y_pred,average='weighted'))\n",
    "print('precision_score =',precision_score(y_test,y_hat,average='weighted'))\n",
    "print(\" \")\n",
    "\n",
    "#Random forest classifier\n",
    "model = RandomForestClassifier()\n",
    "model.fit(X_train_fs,y_train)\n",
    "predict = model.predict(X_test_fs)\n",
    "print('RandomForestClassifier - ')\n",
    "print('Precision=',precision_score(y_test,predict,average='weighted'))\n",
    "print('recall=',recall_score(y_test,predict,average='weighted'))"
   ]
  },
  {
   "cell_type": "code",
   "execution_count": null,
   "metadata": {},
   "outputs": [],
   "source": []
  }
 ],
 "metadata": {
  "kernelspec": {
   "display_name": "Python 3",
   "language": "python",
   "name": "python3"
  },
  "language_info": {
   "codemirror_mode": {
    "name": "ipython",
    "version": 3
   },
   "file_extension": ".py",
   "mimetype": "text/x-python",
   "name": "python",
   "nbconvert_exporter": "python",
   "pygments_lexer": "ipython3",
   "version": "3.8.5-final"
  }
 },
 "nbformat": 4,
 "nbformat_minor": 4
}